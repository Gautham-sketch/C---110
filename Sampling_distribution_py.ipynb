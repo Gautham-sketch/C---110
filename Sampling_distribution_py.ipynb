{
  "nbformat": 4,
  "nbformat_minor": 0,
  "metadata": {
    "colab": {
      "name": "Sampling_distribution.py",
      "provenance": [],
      "authorship_tag": "ABX9TyOfechpf6aXa8B6e5ly72J6",
      "include_colab_link": true
    },
    "kernelspec": {
      "name": "python3",
      "display_name": "Python 3"
    },
    "language_info": {
      "name": "python"
    }
  },
  "cells": [
    {
      "cell_type": "markdown",
      "metadata": {
        "id": "view-in-github",
        "colab_type": "text"
      },
      "source": [
        "<a href=\"https://colab.research.google.com/github/Gautham-sketch/C---110/blob/main/Sampling_distribution_py.ipynb\" target=\"_parent\"><img src=\"https://colab.research.google.com/assets/colab-badge.svg\" alt=\"Open In Colab\"/></a>"
      ]
    },
    {
      "cell_type": "code",
      "execution_count": 2,
      "metadata": {
        "colab": {
          "base_uri": "https://localhost:8080/"
        },
        "id": "18YSNmOyCdPP",
        "outputId": "a08a2eb7-4a9c-42b7-8647-bbdb017a0854"
      },
      "outputs": [
        {
          "output_type": "stream",
          "name": "stdout",
          "text": [
            "Mean of the samples is : 3.9329528\n",
            "Mean of the whole data is : 3.933977711872023\n",
            "Standard Deviation of the samples is : 0.03399731680161994\n",
            "Standard Deviation of the the whole data is : 0.350970118315556\n"
          ]
        }
      ],
      "source": [
        "import pandas as pd\n",
        "import plotly.figure_factory as ff\n",
        "import plotly.graph_objects as pg\n",
        "import statistics as st\n",
        "import random\n",
        "\n",
        "file = pd.read_csv(\"newdata.csv\")\n",
        "data = file[\"average\"].to_list()\n",
        "\n",
        "sampleList = []\n",
        "meanList = []\n",
        "\n",
        "mean = st.mean(data)\n",
        "stdev = st.stdev(data)\n",
        "\n",
        "for j in range(0,1000):\n",
        "    for i in range(0,100):\n",
        "        random_num = random.randint(0,len(data)-1)\n",
        "        index = data[random_num]\n",
        "        sampleList.append(index)\n",
        "    sampleListMean = st.mean(sampleList)\n",
        "    meanList.append(sampleListMean)\n",
        "    sampleList = []\n",
        "meanListMean = st.mean(meanList)\n",
        "StdevMeanList = st.stdev(meanList)\n",
        "\n",
        "print(\"Mean of the samples is : {}\".format(meanListMean))\n",
        "print(\"Mean of the whole data is : {}\".format(mean))\n",
        "print(\"Standard Deviation of the samples is : {}\".format(StdevMeanList))\n",
        "print(\"Standard Deviation of the the whole data is : {}\".format(stdev))"
      ]
    }
  ]
}